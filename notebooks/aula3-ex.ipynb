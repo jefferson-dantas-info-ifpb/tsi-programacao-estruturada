{
 "cells": [
  {
   "cell_type": "markdown",
   "metadata": {},
   "source": [
    "##### Descreva o processo de criação de um ambiente virtual em Python e por que isso pode ser útil em projetos com diferentes dependências.\n",
    "\n",
    "**Python v3.6**\n",
    "```bash\n",
    "python -m venv .venv\n",
    "source .env/bin/activate\n",
    "```\n",
    "\n",
    "**Python v2.7**\n",
    "```bash\n",
    "virtualenv -p /usr/bin/python2 env\n",
    "source env/bin/activate\n",
    "```\n",
    "\n",
    "É útil para evitar conflitos de versões entre bibliotecas, quando utilizamos vários projetos na mesma máquina"
   ]
  },
  {
   "cell_type": "markdown",
   "metadata": {},
   "source": [
    "##### Discuta a importância das anotações de tipo (type hints) na linguagem Python e explique como elas podem ajudar no desenvolvimento de código.\n",
    "\n",
    "Elas ajudam a evitar erros nas tipagens das variáveis, assim evitando operações com as variáveis de tipos errados"
   ]
  },
  {
   "cell_type": "markdown",
   "metadata": {},
   "source": [
    "##### Escreva um programa que solicite ao usuário o seu nome e a sua idade, armazenando esses valores em variáveis. Em seguida, imprima uma mensagem formatada mostrando o nome e a idade do usuário."
   ]
  },
  {
   "cell_type": "code",
   "execution_count": 1,
   "metadata": {},
   "outputs": [
    {
     "name": "stdout",
     "output_type": "stream",
     "text": [
      "Carregando o programa...\n",
      "Olá, boa tarde Jefferson . Você tem  20  anos\n"
     ]
    }
   ],
   "source": [
    "print(\"Carregando o programa...\")\n",
    "nome = input(\"Digite seu nome:\")\n",
    "idade = input(\"Digite sua idade:\")\n",
    "print(\"Olá, boa tarde\", nome, \". Você tem \", idade, \" anos\")"
   ]
  },
  {
   "cell_type": "markdown",
   "metadata": {},
   "source": [
    "##### Escreva um programa que solicite ao usuário dois números inteiros e armazene-os em variáveis. Em seguida, calcule e imprima a soma, subtração, multiplicação e divisão desses números."
   ]
  },
  {
   "cell_type": "code",
   "execution_count": 4,
   "metadata": {},
   "outputs": [
    {
     "name": "stdout",
     "output_type": "stream",
     "text": [
      "Soma: 52\n",
      "Subtração: 14\n",
      "Multiplicação: 627\n",
      "Divisão: 1.736842105263158\n"
     ]
    }
   ],
   "source": [
    "numero1 = int(input(\"Digite o 1º número: \"))\n",
    "numero2 = int(input(\"Digite o 2º número: \"))\n",
    "\n",
    "print(\"Soma:\", numero1 + numero2)\n",
    "print(\"Subtração:\", numero1 - numero2)\n",
    "print(\"Multiplicação:\", numero1 * numero2)\n",
    "print(\"Divisão:\", numero1 / numero2)"
   ]
  },
  {
   "cell_type": "markdown",
   "metadata": {},
   "source": [
    "##### Escreva um programa que solicite ao usuário o raio de um círculo e calcule a área e o perímetro desse círculo. Imprima os resultados formatados."
   ]
  },
  {
   "cell_type": "code",
   "execution_count": 2,
   "metadata": {},
   "outputs": [
    {
     "name": "stdout",
     "output_type": "stream",
     "text": [
      "Área: 452.38896\n",
      "Perímetro: 75.39815999999999\n"
     ]
    }
   ],
   "source": [
    "raio = float(input(\"Raio: \"))\n",
    "pi = 3.14159\n",
    "area = pi * (raio ** 2)\n",
    "perimetro = 2 * pi * raio\n",
    "print(\"Área:\", area)\n",
    "print(\"Perímetro:\", perimetro)"
   ]
  },
  {
   "cell_type": "markdown",
   "metadata": {},
   "source": [
    "##### Escreva um programa que solicite ao usuário uma temperatura em graus Celsius e converta-a para Fahrenheit. Imprima o resultado formatado."
   ]
  },
  {
   "cell_type": "code",
   "execution_count": 6,
   "metadata": {},
   "outputs": [
    {
     "name": "stdout",
     "output_type": "stream",
     "text": [
      "53.6\n"
     ]
    }
   ],
   "source": [
    "celsius = int(input(\"Temperatura (°C): \"))\n",
    "fahrenheit = (celsius * 9 / 5) + 32\n",
    "print(fahrenheit)\n"
   ]
  },
  {
   "cell_type": "markdown",
   "metadata": {},
   "source": [
    "##### Escreva um programa que solicite ao usuário o seu salário mensal e o número de meses trabalhados no ano. Calcule e imprima o salário anual."
   ]
  },
  {
   "cell_type": "code",
   "execution_count": 7,
   "metadata": {},
   "outputs": [
    {
     "name": "stdout",
     "output_type": "stream",
     "text": [
      "Salário anual:  12005.9\n"
     ]
    }
   ],
   "source": [
    "salario_mensal = float(input(\"Salário mensal: \"))\n",
    "numero_meses = int(input(\"Número de meses: \"))\n",
    "salario_anual = salario_mensal * numero_meses\n",
    "print(\"Salário anual:\", salario_anual)"
   ]
  },
  {
   "cell_type": "markdown",
   "metadata": {},
   "source": [
    "##### Escreva um programa que solicite ao usuário um número e verifique se ele é par ou ímpar. Imprima uma mensagem informando o resultado."
   ]
  },
  {
   "cell_type": "code",
   "execution_count": 11,
   "metadata": {},
   "outputs": [
    {
     "name": "stdout",
     "output_type": "stream",
     "text": [
      "Par\n"
     ]
    }
   ],
   "source": [
    "numero = int(input(\"Número: \"))\n",
    "par_ou_impar = \"Par\" if numero % 2 == 0 else \"Ímpar\"\n",
    "print(par_ou_impar)"
   ]
  },
  {
   "cell_type": "markdown",
   "metadata": {},
   "source": [
    "##### Escreva um programa que solicite ao usuário dois valores booleanos (True ou False) e armazene-os em variáveis. Em seguida, aplique os operadores lógicos \"and\", \"or\" e \"not\" entre essas variáveis e imprima os resultados."
   ]
  },
  {
   "cell_type": "code",
   "execution_count": 15,
   "metadata": {},
   "outputs": [
    {
     "name": "stdout",
     "output_type": "stream",
     "text": [
      "True and False = False\n",
      "True or False = True\n",
      "not True = False\n",
      "not False = True\n"
     ]
    }
   ],
   "source": [
    "bool1 = input(\"Booleano 1: \") == 'True'\n",
    "bool2 = input(\"Booleano 2: \") == 'True'\n",
    "\n",
    "print(bool1, 'and', bool2, '=', bool1 and bool2)\n",
    "print(bool1, 'or', bool2, '=', bool1 or bool2)\n",
    "print('not', bool1, '=', not bool1)\n",
    "print('not', bool2, '=', not bool2)"
   ]
  },
  {
   "cell_type": "markdown",
   "metadata": {},
   "source": [
    "##### Escreva um programa que solicite ao usuário duas strings e verifique se elas são iguais. Imprima uma mensagem informando o resultado da comparação."
   ]
  },
  {
   "cell_type": "code",
   "execution_count": 17,
   "metadata": {},
   "outputs": [
    {
     "name": "stdout",
     "output_type": "stream",
     "text": [
      "Diferentes\n"
     ]
    }
   ],
   "source": [
    "str1 = input(\"String 1: \")\n",
    "str2 = input(\"String 2: \")\n",
    "print(\"Iguais\" if str1 == str2 else \"Diferentes\")"
   ]
  },
  {
   "cell_type": "markdown",
   "metadata": {},
   "source": [
    "##### Escreva um programa que solicite ao usuário dois números e verifique se o primeiro número é maior que o segundo. Imprima uma mensagem informando o resultado da comparação."
   ]
  },
  {
   "cell_type": "code",
   "execution_count": 19,
   "metadata": {},
   "outputs": [
    {
     "name": "stdout",
     "output_type": "stream",
     "text": [
      "Menor\n"
     ]
    }
   ],
   "source": [
    "numero1 = int(input(\"Digite o 1º número: \"))\n",
    "numero2 = int(input(\"Digite o 2º número: \"))\n",
    "\n",
    "print(\"Maior\" if numero1 > numero2 else \"Menor\")"
   ]
  },
  {
   "cell_type": "markdown",
   "metadata": {},
   "source": [
    "##### Escreva um programa que solicite ao usuário a sua idade e verifique se ele é maior de idade (idade igual ou superior a 18 anos). Imprima uma mensagem informando o resultado."
   ]
  },
  {
   "cell_type": "code",
   "execution_count": 4,
   "metadata": {},
   "outputs": [
    {
     "name": "stdout",
     "output_type": "stream",
     "text": [
      "Menor de idade\n"
     ]
    }
   ],
   "source": [
    "idade = int(input(\"Idade: \"))\n",
    "\n",
    "print(\"Menor\" if idade < 18 else \"Maior\", \"de idade\")"
   ]
  },
  {
   "cell_type": "markdown",
   "metadata": {},
   "source": [
    "##### Escreva um programa em Python que solicite ao usuário dois números inteiros e troque os valores das variáveis. Em seguida, imprima os valores atualizados.\n",
    "\n",
    "Instruções:\n",
    "\n",
    "Solicite ao usuário o primeiro número inteiro e armazene-o em uma variável chamada numero1. Solicite ao usuário o segundo número inteiro e armazene-o em uma variável chamada numero2. Troque os valores das variáveis numero1 e numero2 utilizando atribuição múltipla. Imprima os valores atualizados das variáveis utilizando a função print().\n",
    "\n",
    "```\n",
    "Digite o primeiro número inteiro: 10\n",
    "Digite o segundo número inteiro: 5\n",
    "Valores antes da troca: numero1 = 10, numero2 = 5\n",
    "Valores depois da troca: numero1 = 5, numero2 = 10\n",
    "```"
   ]
  },
  {
   "cell_type": "code",
   "execution_count": 7,
   "metadata": {},
   "outputs": [
    {
     "name": "stdout",
     "output_type": "stream",
     "text": [
      "Valores antes da troca: numero1 = 5 , numero2 =  10\n",
      "Valores depois da troca: numero1 = 10 , numero2 =  5\n"
     ]
    }
   ],
   "source": [
    "n1 = int(input(\"Digite o primeiro número inteiro: \"))\n",
    "n2 = int(input(\"Digite o segundo número inteiro: \"))\n",
    "\n",
    "print(\"Valores antes da troca: numero1 =\", n1, \", numero2 = \", n2)\n",
    "\n",
    "n2, n1 = n1, n2\n",
    "\n",
    "print(\"Valores depois da troca: numero1 =\", n1, \", numero2 = \", n2)"
   ]
  },
  {
   "cell_type": "markdown",
   "metadata": {},
   "source": [
    "\n",
    "##### Um foguete atinge uma velocidade constante de 1500 m/s. Se ele leva 40 segundos para atingir essa velocidade, qual é a altitude máxima que o foguete alcançará?\n"
   ]
  },
  {
   "cell_type": "code",
   "execution_count": null,
   "metadata": {},
   "outputs": [],
   "source": [
    "velocidade = 1500\n",
    "tempo = 40\n",
    "altitude = velocidade * tempo\n",
    "print(altitude)"
   ]
  },
  {
   "cell_type": "markdown",
   "metadata": {},
   "source": [
    "##### Um sistema de foguete opera em Celsius, mas você precisa fornecer a temperatura em Fahrenheit. Dada a fórmula de conversão: Fahrenheit = (Celsius * 9/5) + 32, converta uma temperatura de 25°C para Fahrenheit."
   ]
  },
  {
   "cell_type": "code",
   "execution_count": null,
   "metadata": {},
   "outputs": [],
   "source": [
    "celsius = int(input(\"Temperatura (°C): \"))\n",
    "fahrenheit = (celsius * 9 / 5) + 32\n",
    "print(fahrenheit)"
   ]
  },
  {
   "cell_type": "markdown",
   "metadata": {},
   "source": [
    "##### Escreva um programa que dado um dia, mes e ano calcule o valor em termos de UNIX Epoch﻿ Time (o número de milessegundos desde 00:00 de 01 de Janeiro de 1970).\n",
    "\n",
    "a) Considere que todos os anos possuem 365 dias b) Considere os anos bissextos"
   ]
  },
  {
   "cell_type": "code",
   "execution_count": 18,
   "metadata": {},
   "outputs": [
    {
     "name": "stdout",
     "output_type": "stream",
     "text": [
      "1692576000000\n"
     ]
    }
   ],
   "source": [
    "dia = int(input(\"Dia: \"))\n",
    "mes = int(input(\"Mês: \"))\n",
    "ano = int(input(\"Ano: \"))\n",
    "\n",
    "ms_dia = 1000 * 60 * 60 * 24\n",
    "ms_mes = ms_dia * 30\n",
    "ms_ano = ms_dia * 365\n",
    "\n",
    "# 2023 - 1972 = 51 // 4 + 1\n",
    "\n",
    "anos_bissextos = (2023 - 1972) // 4 + 1\n",
    "ms_total = 0\n",
    "ms_total += anos_bissextos * ms_dia \n",
    "ms_total += ms_ano * (ano - 1970)\n",
    "ms_total += ms_mes * (mes - 1)\n",
    "ms_total += ms_dia * (dia - 1)\n",
    "\n",
    "print(ms_total)"
   ]
  }
 ],
 "metadata": {
  "kernelspec": {
   "display_name": "Python 3",
   "language": "python",
   "name": "python3"
  },
  "language_info": {
   "codemirror_mode": {
    "name": "ipython",
    "version": 3
   },
   "file_extension": ".py",
   "mimetype": "text/x-python",
   "name": "python",
   "nbconvert_exporter": "python",
   "pygments_lexer": "ipython3",
   "version": "3.10.8"
  },
  "orig_nbformat": 4
 },
 "nbformat": 4,
 "nbformat_minor": 2
}
