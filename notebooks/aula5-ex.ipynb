{
 "cells": [
  {
   "cell_type": "markdown",
   "metadata": {},
   "source": [
    "1. Escreva um programa que solicita um número ao usuário e determina se é positivo, negativo ou zero."
   ]
  },
  {
   "cell_type": "code",
   "execution_count": 3,
   "metadata": {},
   "outputs": [
    {
     "name": "stdout",
     "output_type": "stream",
     "text": [
      "Negativo 👎\n"
     ]
    }
   ],
   "source": [
    "numero = float(input('Digite o número'))\n",
    "if numero == 0:\n",
    "    print(\"Zero\")\n",
    "elif numero < 0:\n",
    "    print(\"Negativo 👎\")\n",
    "elif numero > 0:\n",
    "    print(\"Positivo 👍\")"
   ]
  },
  {
   "cell_type": "markdown",
   "metadata": {},
   "source": [
    "2. Verificação de Número Par/Ímpar: Crie um programa que pede ao usuário um número e verifica se ele é par ou ímpar."
   ]
  },
  {
   "cell_type": "code",
   "execution_count": 9,
   "metadata": {},
   "outputs": [
    {
     "name": "stdout",
     "output_type": "stream",
     "text": [
      "Ímpar\n"
     ]
    }
   ],
   "source": [
    "numero = int(input('Digite o número'))\n",
    "if numero % 2 == 0:\n",
    "    print(\"Par\")\n",
    "else:\n",
    "    print(\"Ímpar\")"
   ]
  },
  {
   "cell_type": "markdown",
   "metadata": {},
   "source": [
    "3. Calculadora Simples: Faça uma calculadora que pede ao usuário dois números e uma operação (+, -, *, /) e retorna o resultado dessa operação."
   ]
  },
  {
   "cell_type": "code",
   "execution_count": 11,
   "metadata": {},
   "outputs": [
    {
     "name": "stdout",
     "output_type": "stream",
     "text": [
      "Resultado: 134.0\n"
     ]
    }
   ],
   "source": [
    "numero1 = float(input('Digite o número 1:'))\n",
    "numero2 = float(input('Digite o número 2:'))\n",
    "operacao = input('Operação:')\n",
    "\n",
    "if operacao == '+':\n",
    "    resultado = numero1 + numero2\n",
    "elif operacao == '-':\n",
    "    resultado = numero1 - numero2\n",
    "elif operacao == '*':\n",
    "    resultado = numero1 * numero2\n",
    "elif operacao == '/':\n",
    "    resultado = numero1 / numero2\n",
    "\n",
    "print(\"Resultado:\", resultado)"
   ]
  },
  {
   "cell_type": "markdown",
   "metadata": {},
   "source": [
    "4. Maior de Três Números: Escreva um programa que solicita três números ao usuário e retorna o maior dentre eles."
   ]
  },
  {
   "cell_type": "code",
   "execution_count": 15,
   "metadata": {},
   "outputs": [
    {
     "name": "stdout",
     "output_type": "stream",
     "text": [
      "Maior: 76.0\n"
     ]
    }
   ],
   "source": [
    "numero1 = float(input('Número 1'))\n",
    "numero2 = float(input('Número 2'))\n",
    "numero3 = float(input('Número 3'))\n",
    "\n",
    "maior = numero1\n",
    "\n",
    "if numero2 > maior:\n",
    "    maior = numero2\n",
    "\n",
    "if numero3 > maior:\n",
    "    maior = numero3\n",
    "\n",
    "print(\"Maior:\", maior)"
   ]
  },
  {
   "cell_type": "markdown",
   "metadata": {},
   "source": [
    "5. Classificação de Idade: Peça a idade do usuário e classifique-a em \"Criança\" (0-12), \"Adolescente\" (13-19), \"Adulto\" (20-59) ou \"Idoso\" (60+)."
   ]
  },
  {
   "cell_type": "code",
   "execution_count": 16,
   "metadata": {},
   "outputs": [
    {
     "name": "stdout",
     "output_type": "stream",
     "text": [
      "Adulto\n"
     ]
    }
   ],
   "source": [
    "idade = int(input(\"Digite sua idade:\"))\n",
    "\n",
    "if idade >= 60:\n",
    "    print(\"Idoso\")\n",
    "elif idade >= 20:\n",
    "    print(\"Adulto\")\n",
    "elif idade > 13:\n",
    "    print(\"Adolescente\")\n",
    "else:\n",
    "    print(\"Criança\")"
   ]
  },
  {
   "cell_type": "markdown",
   "metadata": {},
   "source": [
    "6. Verificação de Triângulo: Peça ao usuário o comprimento de três lados e verifique se eles podem formar um triângulo. Se sim, determine se é um triângulo equilátero, isósceles ou escaleno."
   ]
  },
  {
   "cell_type": "code",
   "execution_count": 19,
   "metadata": {},
   "outputs": [
    {
     "name": "stdout",
     "output_type": "stream",
     "text": [
      "Isósceles\n"
     ]
    }
   ],
   "source": [
    "lado1 = int(input(\"Lado 1:\"))\n",
    "lado2 = int(input(\"Lado 2:\"))\n",
    "lado3 = int(input(\"Lado 3:\"))\n",
    "\n",
    "if lado1 <= 0 or lado2 <= 0 or lado3 <= 0:\n",
    "    print(\"Não é um triângulo\")\n",
    "elif lado1 == lado2 == lado3:\n",
    "    print(\"Equilátero\")\n",
    "elif lado1 == lado2 or lado1 == lado3 or lado2 == lado3:\n",
    "    print(\"Isósceles\")\n",
    "else:\n",
    "    print(\"Escaleno\")"
   ]
  },
  {
   "cell_type": "markdown",
   "metadata": {},
   "source": [
    "7. Conversão de Notas: Escreva um programa que converte uma nota de 0 a 100 em uma escala de conceitos: A (90-100), B (80-89), C (70-79), D (60-69) e F (0-59)."
   ]
  },
  {
   "cell_type": "code",
   "execution_count": 22,
   "metadata": {},
   "outputs": [
    {
     "name": "stdout",
     "output_type": "stream",
     "text": [
      "D\n"
     ]
    }
   ],
   "source": [
    "nota = int(input(\"Nota:\"))\n",
    "\n",
    "if nota > 90:\n",
    "    print(\"A\")\n",
    "elif nota > 80:\n",
    "    print(\"B\")\n",
    "elif nota > 70:\n",
    "    print(\"C\")\n",
    "elif nota > 60:\n",
    "    print(\"D\")\n",
    "else:\n",
    "    print(\"F\")"
   ]
  },
  {
   "cell_type": "markdown",
   "metadata": {},
   "source": [
    "8. Validação de Login: Crie um programa que pede ao usuário um nome de usuário e uma senha. Se o nome de usuário for \"admin\" e a senha for \"12345\", exiba \"Acesso concedido\", caso contrário, exiba \"Acesso negado\"."
   ]
  },
  {
   "cell_type": "code",
   "execution_count": 25,
   "metadata": {},
   "outputs": [
    {
     "name": "stdout",
     "output_type": "stream",
     "text": [
      "Acesso negado\n"
     ]
    }
   ],
   "source": [
    "usuario = input(\"Usuário:\")\n",
    "senha = input(\"Senha:\")\n",
    "\n",
    "if usuario == 'admin' and senha == '12345':\n",
    "    print(\"Acesso concedido\")\n",
    "else:\n",
    "    print(\"Acesso negado\")"
   ]
  },
  {
   "cell_type": "markdown",
   "metadata": {},
   "source": [
    "9. Calculadora de IMC: Peça ao usuário seu peso e altura e calcule o índice de massa corporal (IMC). Em seguida, mostre uma mensagem indicando se a pessoa está abaixo do peso, com peso normal, com sobrepeso, obesa ou muito obesa."
   ]
  },
  {
   "cell_type": "code",
   "execution_count": 26,
   "metadata": {},
   "outputs": [
    {
     "name": "stdout",
     "output_type": "stream",
     "text": [
      "IMC: 23.18339100346021\n",
      "Peso normal\n"
     ]
    }
   ],
   "source": [
    "peso = float(input(\"Peso:\"))\n",
    "altura = float(input(\"Altura:\"))\n",
    "\n",
    "imc = peso / (altura ** 2)\n",
    "\n",
    "# Abaixo de 17\t        Muito abaixo do peso\n",
    "# Entre 17 e 18,49\t    Abaixo do peso\n",
    "# Entre 18,5 e 24,99\tPeso normal\n",
    "# Entre 25 e 29,99\t    Acima do peso\n",
    "# Entre 30 e 34,99\t    Obesidade I\n",
    "# Entre 35 e 39,99\t    Obesidade II (severa)\n",
    "# Acima de 40\t        Obesidade III (mórbida)\n",
    "\n",
    "print(\"IMC:\", imc)\n",
    "if imc < 17:\n",
    "    print(\"Muito abaixo do peso\")\n",
    "elif imc < 18.5:\n",
    "    print(\"Abaixo do peso\")\n",
    "elif imc < 25:\n",
    "    print(\"Peso normal\")\n",
    "elif imc < 30:\n",
    "    print(\"Acima do peso\")\n",
    "elif imc < 35:\n",
    "    print(\"Obesidade I\")\n",
    "elif imc < 40:\n",
    "    print(\"Obesidade II (severa)\")\n",
    "else:  \n",
    "    print(\"Obesidade III (mórbida)\")"
   ]
  },
  {
   "cell_type": "markdown",
   "metadata": {},
   "source": [
    "10. Verificação de Ano Bissexto: Escreva um programa que verifica se um ano fornecido pelo usuário é bissexto ou não."
   ]
  },
  {
   "cell_type": "code",
   "execution_count": 27,
   "metadata": {},
   "outputs": [
    {
     "name": "stdout",
     "output_type": "stream",
     "text": [
      "Bissexto\n"
     ]
    }
   ],
   "source": [
    "ano = int(input(\"Ano:\"))\n",
    "\n",
    "if ano % 4 == 0:\n",
    "    print(\"Bissexto\")\n",
    "else:\n",
    "    print(\"Não bissexto\")"
   ]
  }
 ],
 "metadata": {
  "kernelspec": {
   "display_name": "Python 3",
   "language": "python",
   "name": "python3"
  },
  "language_info": {
   "codemirror_mode": {
    "name": "ipython",
    "version": 3
   },
   "file_extension": ".py",
   "mimetype": "text/x-python",
   "name": "python",
   "nbconvert_exporter": "python",
   "pygments_lexer": "ipython3",
   "version": "3.10.8"
  },
  "orig_nbformat": 4
 },
 "nbformat": 4,
 "nbformat_minor": 2
}
